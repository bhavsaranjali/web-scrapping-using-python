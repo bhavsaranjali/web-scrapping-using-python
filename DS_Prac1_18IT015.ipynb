{
  "nbformat": 4,
  "nbformat_minor": 0,
  "metadata": {
    "colab": {
      "name": "DS_Prac1_18IT015.ipynb",
      "provenance": [],
      "collapsed_sections": []
    },
    "kernelspec": {
      "name": "python3",
      "display_name": "Python 3"
    },
    "language_info": {
      "name": "python"
    }
  },
  "cells": [
    {
      "cell_type": "code",
      "metadata": {
        "id": "tt3vuaCu-nQu"
      },
      "source": [
        "import requests\n",
        "from bs4 import BeautifulSoup\n",
        "import pandas as pd"
      ],
      "execution_count": 1,
      "outputs": []
    },
    {
      "cell_type": "code",
      "metadata": {
        "id": "t6UaqLjQSOfD"
      },
      "source": [
        "url='https://www.flipkart.com/search?q=mobile&otracker=search&otracker1=search&marketplace=FLIPKART&as-show=on&as=off%27&p%5B%5D=facets.brand%255B%255D%3DSAMSUNG'\n",
        "req=requests.get(url)\n",
        "nm=[]\n",
        "pr=[]\n",
        "rt=[]\n",
        "content=BeautifulSoup(req.content,'html.parser')\n",
        "print(content)\n",
        "name=content.find_all('div',{\"class\":\"_4rR01T\"})\n",
        "price= content.find_all('div',{\"class\":\"_30jeq3 _1_WHN1\"})\n",
        "rating=content.find_all('div',{\"class\":\"gUuXy-\"})\n",
        "for i in name:\n",
        "    nm.append(i.text)\n",
        "for i in price:\n",
        "    pr.append(i.text)\n",
        "for i in rating:\n",
        "    rt.append(i.text)\n",
        "data={'NAME':nm,'PRICE':pr,'RATING':rt}\n",
        "df=pd.DataFrame(data)\n",
        "df.to_csv('18it015_AnjaliBhavsar.csv')"
      ],
      "execution_count": null,
      "outputs": []
    },
    {
      "cell_type": "markdown",
      "metadata": {
        "id": "sSA9gaBcTe9S"
      },
      "source": [
        "# New Section"
      ]
    }
  ]
}